{
 "cells": [
  {
   "cell_type": "code",
   "execution_count": 1,
   "id": "8a47d09b-772b-4a57-b09f-c8458702e954",
   "metadata": {},
   "outputs": [],
   "source": [
    "import pandas as pd\n",
    "import numpy as np"
   ]
  },
  {
   "cell_type": "code",
   "execution_count": 17,
   "id": "8ae46904-e4ba-4f73-8371-fd58ae214b0e",
   "metadata": {},
   "outputs": [],
   "source": [
    "class Account:\n",
    "    \n",
    "    def __init__(self,account_number=None,balance=0):\n",
    "        self.__account_number=account_number\n",
    "        self.__balance=balance\n",
    "        \n",
    "    def get_balance(self):\n",
    "        return self.__balance\n",
    "        \n",
    "    def deposit(self,amount:int):\n",
    "        if amount>0:\n",
    "            self.__balance+=amount\n",
    "        else:\n",
    "            print(\"Please enter a valid input\")\n",
    "\n",
    "    def withdraw(self,amount:int):\n",
    "        if 0<amount<=self.__balance:\n",
    "            self.__balance-=amount\n",
    "        else:\n",
    "            print(\"Not sufficient balance\")\n",
    "            \n",
    "class SavingsAccount(Account):\n",
    "    \n",
    "    def __init__(self,account_number=None,balance=0,interest_rate=0.05):\n",
    "        super().__init__(account_number,balance)\n",
    "        self.__interest_rate=interest_rate\n",
    "\n",
    "    def apply_interest(self):\n",
    "        if self.get_balance()>=100:\n",
    "            interest=self.get_balance()*self.__interest_rate\n",
    "            super().deposit(interest)\n",
    "        else:\n",
    "            print(\"Not enough balance\")\n",
    "            \n",
    "    def withdraw(self,amount:int):\n",
    "        if self.get_balance()-amount<100:\n",
    "            print(\"Minimum balance of $100 is required\")\n",
    "        else:\n",
    "            super().withdraw(amount)\n",
    "            \n",
    "            \n",
    "class CheckingAccount(Account):\n",
    "\n",
    "    def __init__(self,account_number=None,balance=0,overdraft_limit=2000):\n",
    "        super().__init__(account_number,balance)\n",
    "        self.__overdraft_limit=overdraft_limit\n",
    "\n",
    "    def withdraw(self,amount:int):\n",
    "        pass\n",
    "        "
   ]
  },
  {
   "cell_type": "code",
   "execution_count": 18,
   "id": "455e227a-a0dc-4519-a45a-a007579f5cef",
   "metadata": {},
   "outputs": [
    {
     "name": "stdout",
     "output_type": "stream",
     "text": [
      "Initial Savings Balance: 150\n",
      "After Interest: 165.0\n",
      "After Withdrawal: 105.0\n",
      "------------------------------\n",
      "Initial Checking Balance: 500\n",
      "After Withdrawal: 500\n"
     ]
    }
   ],
   "source": [
    "if __name__ == \"__main__\":\n",
    " \n",
    "    sa = SavingsAccount(account_number=101, balance=150, interest_rate=0.1)\n",
    "    print(\"Initial Savings Balance:\", sa.get_balance())\n",
    "    sa.apply_interest()\n",
    "    print(\"After Interest:\", sa.get_balance())\n",
    "    sa.withdraw(60)\n",
    "    print(\"After Withdrawal:\", sa.get_balance())\n",
    "\n",
    "    print(\"-\" * 30)\n",
    "\n",
    "\n",
    "    ca = CheckingAccount(account_number=202, balance=500)\n",
    "    print(\"Initial Checking Balance:\", ca.get_balance())\n",
    "    ca.withdraw(600)  \n",
    "    print(\"After Withdrawal:\", ca.get_balance())\n",
    "    ca.withdraw(2500)  \n"
   ]
  },
  {
   "cell_type": "code",
   "execution_count": null,
   "id": "a988da97-5a29-40c0-b50f-84be1ec63b0d",
   "metadata": {},
   "outputs": [],
   "source": []
  }
 ],
 "metadata": {
  "kernelspec": {
   "display_name": "Python 3 (ipykernel)",
   "language": "python",
   "name": "python3"
  },
  "language_info": {
   "codemirror_mode": {
    "name": "ipython",
    "version": 3
   },
   "file_extension": ".py",
   "mimetype": "text/x-python",
   "name": "python",
   "nbconvert_exporter": "python",
   "pygments_lexer": "ipython3",
   "version": "3.13.0"
  }
 },
 "nbformat": 4,
 "nbformat_minor": 5
}
