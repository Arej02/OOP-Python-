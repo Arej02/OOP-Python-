{
 "cells": [
  {
   "cell_type": "markdown",
   "id": "a4f449f8-71ca-42e0-9f0b-5322dd9b002f",
   "metadata": {},
   "source": [
    "# NLP Cloud:"
   ]
  },
  {
   "cell_type": "code",
   "execution_count": 1,
   "id": "be1134d8-9e74-44c6-8558-c0c639bf7c7f",
   "metadata": {},
   "outputs": [
    {
     "data": {
      "text/plain": [
       "{'scored_labels': [{'label': 'POSITIVE', 'score': 1},\n",
       "  {'label': 'joy', 'score': 1}]}"
      ]
     },
     "execution_count": 1,
     "metadata": {},
     "output_type": "execute_result"
    }
   ],
   "source": [
    "import sys\n",
    "#print(sys.executable)\n",
    "#!{sys.executable} -m pip install nlpcloud\n",
    "import nlpcloud\n",
    "\n",
    "client = nlpcloud.Client(\"finetuned-llama-3-70b\", \"53ac3a3032caeb349479976e2bd29110858f8dff\", gpu=True)\n",
    "client.sentiment(\n",
    "    \"\"\"I hate convoluted products with poor documentation. I see such products all the time. But NLP Cloud is not like that!\"\"\",\n",
    "    target=\"NLP Cloud\"\n",
    ")"
   ]
  },
  {
   "cell_type": "code",
   "execution_count": 2,
   "id": "77a8fc55-db19-43e4-b573-a05a2e991db3",
   "metadata": {},
   "outputs": [],
   "source": [
    "class NLP:\n",
    "    # Constructor which makes a database when it is intialized\n",
    "    def __init__(self):\n",
    "        self.__database={}\n",
    "\n",
    "    # Menu that to make a false database\n",
    "    def menu(self):\n",
    "        choice=input(\"\"\"\n",
    "        1. Register\n",
    "        2. Login\n",
    "        3. Exit\n",
    "        Enter the choice(1-3):\"\"\")\n",
    "        if choice==\"1\":\n",
    "            self.register()\n",
    "        elif choice==\"2\":\n",
    "            self.login()\n",
    "        elif choice==\"3\":\n",
    "            print(\"Good Bye\")\n",
    "            exit()\n",
    "        else:\n",
    "            print(\"Please choose the option between 1 to 3\")\n",
    "\n",
    "    def register(self):\n",
    "        username=input(\"Enter your username:\")\n",
    "        email=input(\"Enter your email:\")\n",
    "        password=input(\"Enter your password:\")\n",
    "\n",
    "        if email in self.__database:\n",
    "            print(\"Yor are already registered.\")\n",
    "            self.login()\n",
    "\n",
    "        else:\n",
    "            self.__database[email]=[username,password]\n",
    "            print(self.__database)\n",
    "\n",
    "    def login(self):\n",
    "        email=input(\"Enter a email:\")\n",
    "        if email in self.__database:\n",
    "            password=input(\"Enter your password:\")\n",
    "            if self.__database[email][1]==password:\n",
    "                self.second_menu()\n",
    "            else:\n",
    "                print(\"Incorrect Password\")\n",
    "        else:\n",
    "            print(\"You have not registered\")\n",
    "            self.login()\n",
    "\n",
    "    # Menu that allows you to choose the NLP task:\n",
    "    def second_menu(self):\n",
    "        second_choice=input(\"\"\"\n",
    "        1.Sentiment Analysis\n",
    "        2.NER\n",
    "        \"\"\")\n",
    "\n",
    "        if second_choice==\"1\":\n",
    "            self.sentiment_analysis()\n",
    "\n",
    "    def sentiment_analysis(self):\n",
    "        text=input(\"Enter the text:\")\n",
    "        client = nlpcloud.Client(\"finetuned-llama-3-70b\", \"53ac3a3032caeb349479976e2bd29110858f8dff\", gpu=True)\n",
    "        response=client.sentiment(text,target=\"NLP Cloud\")\n",
    "\n",
    "        rating=[]\n",
    "        for i in response['scored_labels']:\n",
    "            rating.append(i['score'])\n",
    "\n",
    "        index=rating[0]\n",
    "        print(response['scored_labels'][index]['label'])\n",
    "        "
   ]
  },
  {
   "cell_type": "code",
   "execution_count": 3,
   "id": "a4ea5fe0-9cca-45e8-98e2-cd38cfae58ed",
   "metadata": {},
   "outputs": [],
   "source": [
    "nlp=NLP()"
   ]
  },
  {
   "cell_type": "code",
   "execution_count": 4,
   "id": "68a99824-ce28-40b8-b037-aaffd5cf223f",
   "metadata": {},
   "outputs": [
    {
     "name": "stdin",
     "output_type": "stream",
     "text": [
      "\n",
      "        1. Register\n",
      "        2. Login\n",
      "        3. Exit\n",
      "        Enter the choice(1-3): 3\n"
     ]
    },
    {
     "name": "stdout",
     "output_type": "stream",
     "text": [
      "Good Bye\n"
     ]
    }
   ],
   "source": [
    "nlp.menu()"
   ]
  }
 ],
 "metadata": {
  "kernelspec": {
   "display_name": "Python 3 (ipykernel)",
   "language": "python",
   "name": "python3"
  },
  "language_info": {
   "codemirror_mode": {
    "name": "ipython",
    "version": 3
   },
   "file_extension": ".py",
   "mimetype": "text/x-python",
   "name": "python",
   "nbconvert_exporter": "python",
   "pygments_lexer": "ipython3",
   "version": "3.13.0"
  }
 },
 "nbformat": 4,
 "nbformat_minor": 5
}
