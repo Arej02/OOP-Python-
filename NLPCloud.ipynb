{
 "cells": [
  {
   "cell_type": "markdown",
   "id": "a4f449f8-71ca-42e0-9f0b-5322dd9b002f",
   "metadata": {},
   "source": [
    "# NLP Cloud:"
   ]
  },
  {
   "cell_type": "code",
   "execution_count": 31,
   "id": "77a8fc55-db19-43e4-b573-a05a2e991db3",
   "metadata": {},
   "outputs": [],
   "source": [
    "class NLP:\n",
    "    def __init__(self):\n",
    "        self.__database={}\n",
    "\n",
    "    def menu(self):\n",
    "        choice=input(\"\"\"\n",
    "        1. Register\n",
    "        2. Login\n",
    "        3. Exit\n",
    "        Enter the choice(1-3):\"\"\")\n",
    "        if choice==\"1\":\n",
    "            self.register()\n",
    "        elif choice==\"2\":\n",
    "            self.login()\n",
    "        elif choice==\"3\":\n",
    "            print(\"Good Bye\")\n",
    "            exit()\n",
    "        else:\n",
    "            print(\"Please choose the option between 1 to 3\")\n",
    "\n",
    "    def register(self):\n",
    "        username=input(\"Enter your username:\")\n",
    "        email=input(\"Enter your email:\")\n",
    "        password=input(\"Enter your password:\")\n",
    "\n",
    "        if email in self.__database:\n",
    "            print(\"Yor are already registered.\")\n",
    "            self.login()\n",
    "\n",
    "        else:\n",
    "            self.__database[email]=[username,password]\n",
    "            print(self.__database)\n",
    "\n",
    "    def login(self):\n",
    "        email=input(\"Enter a email:\")\n",
    "        if email in self.__database:\n",
    "            password=input(\"Enter your password:\")\n",
    "            if self.__database[email][1]==password:\n",
    "                print(\"Login in succesfull\")\n",
    "        else:\n",
    "            print(\"You have not registered\")\n",
    "            self.login()\n",
    "        "
   ]
  },
  {
   "cell_type": "code",
   "execution_count": 32,
   "id": "a4ea5fe0-9cca-45e8-98e2-cd38cfae58ed",
   "metadata": {},
   "outputs": [],
   "source": [
    "nlp=NLP()"
   ]
  },
  {
   "cell_type": "code",
   "execution_count": null,
   "id": "68a99824-ce28-40b8-b037-aaffd5cf223f",
   "metadata": {},
   "outputs": [
    {
     "name": "stdin",
     "output_type": "stream",
     "text": [
      "\n",
      "        1. Register\n",
      "        2. Login\n",
      "        3. Exit\n",
      "        Enter the choice(1-3): 2\n",
      "Enter a email: a\n"
     ]
    },
    {
     "name": "stdout",
     "output_type": "stream",
     "text": [
      "You have not registered\n"
     ]
    },
    {
     "name": "stdin",
     "output_type": "stream",
     "text": [
      "Enter a email: a\n"
     ]
    },
    {
     "name": "stdout",
     "output_type": "stream",
     "text": [
      "You have not registered\n"
     ]
    }
   ],
   "source": [
    "nlp.menu()"
   ]
  },
  {
   "cell_type": "code",
   "execution_count": null,
   "id": "8475f94c-4b53-4f5c-892e-b8439932b189",
   "metadata": {},
   "outputs": [],
   "source": []
  }
 ],
 "metadata": {
  "kernelspec": {
   "display_name": "Python 3 (ipykernel)",
   "language": "python",
   "name": "python3"
  },
  "language_info": {
   "codemirror_mode": {
    "name": "ipython",
    "version": 3
   },
   "file_extension": ".py",
   "mimetype": "text/x-python",
   "name": "python",
   "nbconvert_exporter": "python",
   "pygments_lexer": "ipython3",
   "version": "3.13.0"
  }
 },
 "nbformat": 4,
 "nbformat_minor": 5
}
