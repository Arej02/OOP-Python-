{
 "cells": [
  {
   "cell_type": "markdown",
   "id": "b90565ac-9b6e-4a94-ad8b-5d91eb539552",
   "metadata": {},
   "source": [
    "**University System**\n",
    "1. Base class: Person (private attributes: __name, __age).\n",
    "2. Subclasses: Student (private: __grades), Professor (private: __salary).\n",
    "3. Encapsulate all attributes with getters/setters.\n",
    "4. Add overridden methods: introduce() for each type of person."
   ]
  },
  {
   "cell_type": "code",
   "execution_count": 1,
   "id": "79187a7b-be16-4bbb-a0c6-f5a517a83011",
   "metadata": {},
   "outputs": [],
   "source": [
    "class Person:\n",
    "    def __init__(self,name=None,age=None):\n",
    "        self.__name=name\n",
    "        self.__age=age\n",
    "\n",
    "    def set_name(self,name:str)->None:\n",
    "        self.__name=name\n",
    "    def set_age(self,age:int)->None:\n",
    "        if 0<age<90:\n",
    "            self.__age=age\n",
    "        else:\n",
    "            print(\"Invalid age\")\n",
    "\n",
    "    def get_name(self):\n",
    "        return self.__name\n",
    "    def get_age(self):\n",
    "        return self.__age\n",
    "\n",
    "    def introduce(self):\n",
    "        return \"Name:{},Age:{}\".format(self.__name,self.__age)\n",
    "\n",
    "class Student(Person):\n",
    "    def __init__(self,name=None,age=None,grade=None):\n",
    "        super().__init__(name,age)\n",
    "        self.__grade=grade\n",
    "\n",
    "    def set_grades(self,grade:int)->None:\n",
    "        if 0<=grade<=100:\n",
    "            self.__grade=grade\n",
    "    def get_grades(self):\n",
    "        return self.__grade\n",
    "\n",
    "    def introduce(self):\n",
    "        return super().introduce() + f\"Grade:{self.__grade}\"\n",
    "\n",
    "class Professor(Person):\n",
    "    def __init__(self,name=None,age=None,salary=None):\n",
    "        super().__init__(name,age)\n",
    "        self.__salary=salary\n",
    "\n",
    "    def set_salary(self,salary:str)->None:\n",
    "        self.__salary=salary\n",
    "    def get_salary(self):\n",
    "        return self.__salary\n",
    "\n",
    "    def introduce(self):\n",
    "        return super().introduce() + f\", Salary:{self.__salary}\""
   ]
  },
  {
   "cell_type": "code",
   "execution_count": 2,
   "id": "7794b973-c5c5-4653-be69-8fe70f9034e8",
   "metadata": {},
   "outputs": [],
   "source": [
    "std1=Student()"
   ]
  },
  {
   "cell_type": "code",
   "execution_count": 3,
   "id": "f74f6217-2613-4de7-a69f-1dad911111f8",
   "metadata": {},
   "outputs": [],
   "source": [
    "std1.set_name(\"Arya\")\n",
    "std1.set_age(21)\n",
    "std1.set_grades(90)"
   ]
  },
  {
   "cell_type": "code",
   "execution_count": 4,
   "id": "2c636880-3089-437d-99ff-be7876866d20",
   "metadata": {},
   "outputs": [
    {
     "name": "stdout",
     "output_type": "stream",
     "text": [
      "Arya\n",
      "21\n",
      "90\n"
     ]
    }
   ],
   "source": [
    "print(std1.get_name())\n",
    "print(std1.get_age())\n",
    "print(std1.get_grades())"
   ]
  },
  {
   "cell_type": "code",
   "execution_count": 5,
   "id": "b2a823e0-897b-40a9-aee4-b900869ba240",
   "metadata": {},
   "outputs": [],
   "source": [
    "prf1=Professor()"
   ]
  },
  {
   "cell_type": "code",
   "execution_count": 6,
   "id": "a878f8cf-3963-426d-aa61-ed265228ce55",
   "metadata": {},
   "outputs": [],
   "source": [
    "prf1.set_name(\"Andrew\")\n",
    "prf1.set_age(51)\n",
    "prf1.set_salary(\"90k\")"
   ]
  },
  {
   "cell_type": "code",
   "execution_count": 7,
   "id": "4ee6f041-c554-4ee9-9aa8-361782ed30df",
   "metadata": {},
   "outputs": [
    {
     "name": "stdout",
     "output_type": "stream",
     "text": [
      "Andrew\n",
      "51\n",
      "90k\n"
     ]
    }
   ],
   "source": [
    "print(prf1.get_name())\n",
    "print(prf1.get_age())\n",
    "print(prf1.get_salary())"
   ]
  },
  {
   "cell_type": "code",
   "execution_count": 8,
   "id": "e78cd13f-3221-4748-a099-305b4345dbde",
   "metadata": {},
   "outputs": [
    {
     "data": {
      "text/plain": [
       "'Name:Arya,Age:21Grade:90'"
      ]
     },
     "execution_count": 8,
     "metadata": {},
     "output_type": "execute_result"
    }
   ],
   "source": [
    "std1.introduce()"
   ]
  },
  {
   "cell_type": "code",
   "execution_count": 9,
   "id": "54de6cf5-20a4-47d9-8d8b-d374431ca71f",
   "metadata": {},
   "outputs": [
    {
     "data": {
      "text/plain": [
       "'Name:Andrew,Age:51, Salary:90k'"
      ]
     },
     "execution_count": 9,
     "metadata": {},
     "output_type": "execute_result"
    }
   ],
   "source": [
    "prf1.introduce()"
   ]
  }
 ],
 "metadata": {
  "kernelspec": {
   "display_name": "Python 3 (ipykernel)",
   "language": "python",
   "name": "python3"
  },
  "language_info": {
   "codemirror_mode": {
    "name": "ipython",
    "version": 3
   },
   "file_extension": ".py",
   "mimetype": "text/x-python",
   "name": "python",
   "nbconvert_exporter": "python",
   "pygments_lexer": "ipython3",
   "version": "3.13.0"
  }
 },
 "nbformat": 4,
 "nbformat_minor": 5
}
