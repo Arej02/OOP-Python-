


class Point:
    def __init__(self,x,y):
        self.coordinate_x=x
        self.coordinate_y=y

    def __str__(self):
        return '<{},{}>'.format(self.coordinate_x,self.coordinated_y)

    def euclidian_distance(self,other):
        return ((self.coordinate_x-other.coordinate_x)**2+(self.coordinate_y-other.coordinate_y)**2)**0.5

    def distance_from_origin(self):
        return self.euclidian_distance(Point(0,0))
        


p1=Point(1,1)
print(p1.distance_from_origin())


class Line:
    def __init__(self,a,b,c):
        self.coeff_a=a
        self.coeff_b=b
        self.coeff_c=c

    def __str__(self):
        return '{}x+{}y+{}=0'.format(self.coeff_a,self.coeff_b,self.coeff_c)

    def equation_of_line(self,point):
         if self.coeff_a*point.coordinate_x+self.coeff_b*point.coordinate_y+self.coeff_c==0:
             return "Lines on line"
         else:
             return "Does not Lie on line"

    def shortest_distance(self,point):
        numerator=abs(self.coeff_a*point.coordinate_x+self.coeff_b*point.coordinate_y+self.coeff_c)
        denominator=(self.coeff_a**2+self.coeff_b**2)**0.5
        return numerator/denominator

        


line1=Line(1,1,-2)
point1=Point(1,10)
line1.shortest_distance(point1)



