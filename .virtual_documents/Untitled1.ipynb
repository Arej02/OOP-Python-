


class Circle:
    def __init__(self,radius,h=0,k=0):
        self.radius=radius
        self.centre=(h,k)
    def __str__(self):
        return '<{}>'.format(self.radius)
    def area(self):
        return round(3.14*self.radius**2,2)
    def perimeter(self):
        return round(2*3.14*self.radius,2)


circle=Circle(5)
print(circle)


circle.area()


circle.perimeter()


class Point:
    def __init__(self,x,y):
        self.x=x
        self.y=y
    def __str__(self):
        return '<{},{}>'.format(self.x,self.y)
    def point_in_circle(self,circle,centre):
        h,k=self.centre
        if (self.x-h)**2-(self.y-k)**2 <self.radius**2:
            print("It's inside a circle")
        else:
            print("Not inside a circle")


point1=Point(1,1)
print(point1)


point_in_circle(point1,circle)



