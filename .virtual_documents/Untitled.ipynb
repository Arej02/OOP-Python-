


class ATM:
    def __init__(self):
        self.pin=1234
        self.balance=0
        self.menu()
    def __str__(self):
        return '<{},{}>'.format(self.pin,self.balance)

    def menu(self):
        user_input=input("""Hi! Welcome to Nabil Bank! Please choose the option:
        1. Press 1 to Change pin number
        2. Press 2 to Check balance
        3. Press 3 to Withdraw 
        4. Press 4 to Deposit 
        5. Press 5 to Exit
        """)
        if user_input=='1':
            pin_number=int(input("Enter you current pin number: "))
            if pin_number==self.pin:
                new_pin=int(input("Enter your new pin number: "))
                self.pin=new_pin
                print("Your pin number has been changed")
            else:
                print("Your pin number is incorrect.Please try again!")
        elif user_input=='2':
             pin_number=int(input("Enter you current pin number: "))
             if pin_number==self.pin:
                print(f"Your balance is:{self.balance}")
             else:
                print("Your pin number is incorrect.Please try again!")
        elif user_input =='3':
             pin_number=int(input("Enter you current pin number: "))
             if pin_number==self.pin:
                withdraw_amount=int(input("Enter the amount to be withdrawn"))
                if withdraw_amount>self.balance:
                    print("Not enough funds")
             else:
                print("Your pin number is incorrect.Please try again!")
            
        elif user_input =='4':
             pin_number=int(input("Enter you current pin number: "))
             if pin_number==self.pin:
                deposit_amount=int(input("Enter the amount to be deposit"))
                print(f"{deposit_amount} has been deposited")
                print(f"Your new balance is {deposit_amount+self.balance}")
             else:
                print("Your pin number is incorrect.Please try again!")

        else:
            exit()


atm1=ATM()
print(atm1)



