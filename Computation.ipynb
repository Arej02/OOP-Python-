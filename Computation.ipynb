{
 "cells": [
  {
   "cell_type": "markdown",
   "id": "5ab0e235-c452-4df0-a7e3-5839a8a98afd",
   "metadata": {},
   "source": [
    "1. Create a `Computation` class with a default constructor (without parameters) allowing to perform various calculations on integers numbers.\n",
    "2. Create a method called `Factorial()` which allows to calculate the factorial of an integer n. Integer n as parameter for this method\n",
    "\n",
    "3. Create a method called `naturalSum()` allowing to calculate the sum of the first n integers 1 + 2 + 3 + .. + n. Integer n as parameter for this method.\n",
    "\n",
    "4. Create a method called `testPrime()` in  the Calculation class to test the primality of a given integer n, n is Prime or Not? Integer n as parameter for this method.\n",
    "\n",
    "5. Create  a method called `testPrims()` allowing to test if two numbers are prime between them. Two integers are prime to one another if they have only `1` as their common divisor. Eg. 4 and 9 are prime to each other.\n",
    "\n",
    "5. Create a `tableMult()` method which creates and displays the multiplication table of a given integer. Then create an `allTablesMult()` method to display all the integer multiplication tables 1, 2, 3, ..., 9.\n",
    "\n",
    "6. Create a static `listDiv()` method that gets all the divisors of a given integer on new list called  Ldiv. Create another `listDivPrim()` method that gets all the prime divisors of a given integer."
   ]
  },
  {
   "cell_type": "code",
   "execution_count": 4,
   "id": "f83ceff0-2694-4a35-a1a9-d832309615bc",
   "metadata": {},
   "outputs": [],
   "source": [
    "class Computation:\n",
    "    def __init__(self):\n",
    "        pass\n",
    "\n",
    "    #Logic for factorial:\n",
    "    def Factorial(self,n):\n",
    "        fact=1\n",
    "        while n>1:\n",
    "            fact=fact*n\n",
    "            n-=1\n",
    "\n",
    "        return fact\n",
    "            \n",
    "    #Logio for natural sum:\n",
    "    def natural_sum(self,n):\n",
    "        sum=0\n",
    "        for i in range(1,n+1):\n",
    "            sum+=i\n",
    "        return sum\n",
    "\n",
    "\n",
    "        \n",
    "\n",
    "        "
   ]
  },
  {
   "cell_type": "code",
   "execution_count": 2,
   "id": "8cadf51a-42b5-4cee-b27e-5d544f95f0fd",
   "metadata": {},
   "outputs": [
    {
     "data": {
      "text/plain": [
       "5050"
      ]
     },
     "execution_count": 2,
     "metadata": {},
     "output_type": "execute_result"
    }
   ],
   "source": [
    "comp=Computation()\n",
    "comp.natural_sum(100)"
   ]
  },
  {
   "cell_type": "code",
   "execution_count": 3,
   "id": "6fe20d79-c136-45d4-af62-97617dce99ce",
   "metadata": {},
   "outputs": [
    {
     "data": {
      "text/plain": [
       "120"
      ]
     },
     "execution_count": 3,
     "metadata": {},
     "output_type": "execute_result"
    }
   ],
   "source": [
    "comp.Factorial(5)"
   ]
  }
 ],
 "metadata": {
  "kernelspec": {
   "display_name": "Python 3 (ipykernel)",
   "language": "python",
   "name": "python3"
  },
  "language_info": {
   "codemirror_mode": {
    "name": "ipython",
    "version": 3
   },
   "file_extension": ".py",
   "mimetype": "text/x-python",
   "name": "python",
   "nbconvert_exporter": "python",
   "pygments_lexer": "ipython3",
   "version": "3.13.0"
  }
 },
 "nbformat": 4,
 "nbformat_minor": 5
}
