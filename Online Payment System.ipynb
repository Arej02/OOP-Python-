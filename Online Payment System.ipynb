{
 "cells": [
  {
   "cell_type": "markdown",
   "id": "307f48fd-f487-46cb-9710-87d5f49e0323",
   "metadata": {},
   "source": [
    "### Online Payment System\n",
    "\n",
    "You are designing a Payment Processing System for an e-commerce website.\n",
    "\n",
    "Every order generates a Bill.\n",
    "\n",
    "Customers can pay in different ways: Cash, CreditCard, or UPI.\n",
    "\n",
    "Each payment method has its own rules for processing payments.\n",
    "\n",
    "**Requirements**\n",
    "\n",
    "1. Create an abstract class Payment with an abstract method pay().\n",
    "2. Create subclasses CashPayment, CardPayment, and UPIPayment that implement pay() differently.\n",
    "3. Cash → customer gives notes, system calculates change.\n",
    "4. Card → customer enters card number and CVV, system deducts balance.\n",
    "5. UPI → customer provides UPI ID and system confirms transaction.\n",
    "\n",
    "Use composition:\n",
    "Bill should not directly “be” a payment, but it should have-a payment object.\n",
    "\n",
    "Demonstrate polymorphism by writing a function process_payment(bill, payment) that works regardless of whether payment is Cash, Card, or UPI."
   ]
  },
  {
   "cell_type": "code",
   "execution_count": 1,
   "id": "ded99484-6508-45b4-b4c3-59abef22a1d5",
   "metadata": {},
   "outputs": [],
   "source": [
    "from abc import ABC,abstractmethod\n",
    "\n",
    "class Payment(ABC):\n",
    "    \n",
    "    @abstractmethod\n",
    "    def pay(self):\n",
    "        pass\n",
    "        \n",
    "class CashPayment(Payment):\n",
    "\n",
    "    def __init__(self,denomination:list,number:list):\n",
    "        self.denomination=denomination\n",
    "        self.number=number\n",
    "\n",
    "    def pay(self,amount):\n",
    "        total_payed=0\n",
    "        for i in range(len(self.denomination)):\n",
    "            total_payed+=self.denomination[i]*self.number[i]\n",
    "        if(amount>total_payed):\n",
    "            print(f\"{amount-total_payed} left\")\n",
    "        else:\n",
    "            print(\"Successful payment\")\n",
    "\n",
    "class Card(Payment):\n",
    "\n",
    "    def __init__(self,card_no,CVV,balance):\n",
    "        self.card_no=card_no\n",
    "        self.CVV=CVV\n",
    "        self.balance=balance\n",
    "\n",
    "    def pay(self,amount:int):\n",
    "        if amount>self.balance:\n",
    "            print(\"Insufficient Balance. Payment Unsuccessful\")\n",
    "        else:\n",
    "            self.balance-=amount\n",
    "            print(f\"The payment by card no.{self.card_no[-4:]} is succesful.Remaining balance {self.balance}\")"
   ]
  },
  {
   "cell_type": "code",
   "execution_count": 2,
   "id": "00505199-6cf5-4469-b582-7115f1dd845c",
   "metadata": {},
   "outputs": [
    {
     "name": "stdout",
     "output_type": "stream",
     "text": [
      "Successful payment\n"
     ]
    }
   ],
   "source": [
    "cash1=CashPayment([10,20,50],[1,2,0])\n",
    "cash1.pay(40)"
   ]
  },
  {
   "cell_type": "code",
   "execution_count": 3,
   "id": "18423446-4c01-44a4-b682-034d21e30f70",
   "metadata": {},
   "outputs": [
    {
     "name": "stdout",
     "output_type": "stream",
     "text": [
      "The payment by card no.5678 is succesful.Remaining balance 4921\n"
     ]
    }
   ],
   "source": [
    "card1=Card(\"12345678\",567,5000)\n",
    "card1.pay(79)"
   ]
  },
  {
   "cell_type": "code",
   "execution_count": null,
   "id": "0e6a7241-f631-4ddc-8e23-73c34744ea31",
   "metadata": {},
   "outputs": [],
   "source": []
  }
 ],
 "metadata": {
  "kernelspec": {
   "display_name": "Python 3 (ipykernel)",
   "language": "python",
   "name": "python3"
  },
  "language_info": {
   "codemirror_mode": {
    "name": "ipython",
    "version": 3
   },
   "file_extension": ".py",
   "mimetype": "text/x-python",
   "name": "python",
   "nbconvert_exporter": "python",
   "pygments_lexer": "ipython3",
   "version": "3.13.0"
  }
 },
 "nbformat": 4,
 "nbformat_minor": 5
}
