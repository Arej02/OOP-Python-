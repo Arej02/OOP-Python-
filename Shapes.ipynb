{
 "cells": [
  {
   "cell_type": "markdown",
   "id": "fe05e021-b1a0-4f2e-894b-9fe796b72fee",
   "metadata": {},
   "source": [
    "# Geometric Shapes System\n",
    "- Create classes for different geometric shapes (Circle, Rectangle, Triangle) with methods to\n",
    "- Calculate area and perimeter\n",
    "- Check if a point is inside the shape\n",
    "- Check if one shape is contained within another\n",
    "- Handle shape intersection"
   ]
  },
  {
   "cell_type": "code",
   "execution_count": 8,
   "id": "07949f83-2959-4791-85e3-a40725daa741",
   "metadata": {},
   "outputs": [],
   "source": [
    "class Circle:\n",
    "    def __init__(self,radius,h=0,k=0):\n",
    "        self.radius=radius\n",
    "        self.centre=(h,k)\n",
    "    def __str__(self):\n",
    "        return '<{}>'.format(self.radius)\n",
    "    def area(self):\n",
    "        return round(3.14*self.radius**2,2)\n",
    "    def perimeter(self):\n",
    "        return round(2*3.14*self.radius,2)\n",
    "    def point_in_circle(self,point):\n",
    "        h,k=self.centre\n",
    "        if (point.x-h)**2-(point.y-k)**2 <self.radius**2:\n",
    "            print(\"It's inside a circle\")\n",
    "        else:\n",
    "            print(\"Not inside a circle\")"
   ]
  },
  {
   "cell_type": "code",
   "execution_count": 9,
   "id": "12195fc0-82aa-41f4-9323-22fb34a245d7",
   "metadata": {},
   "outputs": [
    {
     "name": "stdout",
     "output_type": "stream",
     "text": [
      "<5>\n"
     ]
    }
   ],
   "source": [
    "circle=Circle(5)\n",
    "print(circle)"
   ]
  },
  {
   "cell_type": "code",
   "execution_count": 10,
   "id": "230aff52-80f0-4921-b5df-a892a07a831a",
   "metadata": {},
   "outputs": [
    {
     "data": {
      "text/plain": [
       "78.5"
      ]
     },
     "execution_count": 10,
     "metadata": {},
     "output_type": "execute_result"
    }
   ],
   "source": [
    "circle.area()"
   ]
  },
  {
   "cell_type": "code",
   "execution_count": 11,
   "id": "a06fb9fe-12eb-4b15-9070-4b05f326d2d9",
   "metadata": {},
   "outputs": [
    {
     "data": {
      "text/plain": [
       "31.4"
      ]
     },
     "execution_count": 11,
     "metadata": {},
     "output_type": "execute_result"
    }
   ],
   "source": [
    "circle.perimeter()"
   ]
  },
  {
   "cell_type": "code",
   "execution_count": 12,
   "id": "55ca3fde-9ac9-400b-ad98-291d154a2e46",
   "metadata": {},
   "outputs": [],
   "source": [
    "class Point:\n",
    "    def __init__(self,x,y):\n",
    "        self.x=x\n",
    "        self.y=y\n",
    "    def __str__(self):\n",
    "        return '<{},{}>'.format(self.x,self.y)\n"
   ]
  },
  {
   "cell_type": "code",
   "execution_count": 17,
   "id": "9708fe74-457d-445f-b57c-66b925076f7d",
   "metadata": {},
   "outputs": [
    {
     "name": "stdout",
     "output_type": "stream",
     "text": [
      "<6,0>\n"
     ]
    }
   ],
   "source": [
    "point1=Point(6, 0)\n",
    "print(point1)"
   ]
  },
  {
   "cell_type": "code",
   "execution_count": 18,
   "id": "5e2f03ef-a7cb-445a-ab47-3875ce1e02c3",
   "metadata": {},
   "outputs": [
    {
     "name": "stdout",
     "output_type": "stream",
     "text": [
      "Not inside a circle\n"
     ]
    }
   ],
   "source": [
    "circle.point_in_circle(point1)"
   ]
  },
  {
   "cell_type": "code",
   "execution_count": null,
   "id": "885ff29d-1c6b-4e3e-8fe9-e74fb0733edd",
   "metadata": {},
   "outputs": [],
   "source": []
  }
 ],
 "metadata": {
  "kernelspec": {
   "display_name": "Python 3 (ipykernel)",
   "language": "python",
   "name": "python3"
  },
  "language_info": {
   "codemirror_mode": {
    "name": "ipython",
    "version": 3
   },
   "file_extension": ".py",
   "mimetype": "text/x-python",
   "name": "python",
   "nbconvert_exporter": "python",
   "pygments_lexer": "ipython3",
   "version": "3.12.7"
  }
 },
 "nbformat": 4,
 "nbformat_minor": 5
}
