{
 "cells": [
  {
   "cell_type": "markdown",
   "id": "080e2d49-8711-4df7-9ea1-06e5c929f698",
   "metadata": {},
   "source": [
    "## Rectangle Class\n",
    "1. Write a Rectangle class in Python language, allowing you to build a rectangle with length and width attributes.\n",
    "\n",
    "2. Create a Perimeter() method to calculate the perimeter of the rectangle and a Area() method to calculate the area of ​​the rectangle.\n",
    "\n",
    "3. Create a method display() that display the length, width, perimeter and area of an object created using an instantiation on rectangle class."
   ]
  },
  {
   "cell_type": "code",
   "execution_count": 10,
   "id": "a4ea5fe0-9cca-45e8-98e2-cd38cfae58ed",
   "metadata": {},
   "outputs": [],
   "source": [
    "class Rectangle:\n",
    "\n",
    "    def __init__(self,l,w):\n",
    "        self.__length=l\n",
    "        self.__width=w\n",
    "\n",
    "    def __perimeter(self):\n",
    "        return 2*(self.__length+self.__width)\n",
    "\n",
    "    def __area(self):\n",
    "        return self.__length*self.__width\n",
    "\n",
    "    def display(self):\n",
    "        return \"Length:{},Width:{},Perimeter:{},Area:{}\".format(self.__length,self.__width,self.__perimeter(),self.__area())\n",
    "    "
   ]
  },
  {
   "cell_type": "code",
   "execution_count": 14,
   "id": "68a99824-ce28-40b8-b037-aaffd5cf223f",
   "metadata": {},
   "outputs": [],
   "source": [
    "rec=Rectangle(4,5)"
   ]
  },
  {
   "cell_type": "code",
   "execution_count": 15,
   "id": "3829c30f-e94a-44d3-8b26-744e279ec679",
   "metadata": {},
   "outputs": [
    {
     "data": {
      "text/plain": [
       "'Length:4,Width:5,Perimeter:18,Area:20'"
      ]
     },
     "execution_count": 15,
     "metadata": {},
     "output_type": "execute_result"
    }
   ],
   "source": [
    "rec.display()"
   ]
  }
 ],
 "metadata": {
  "kernelspec": {
   "display_name": "Python 3 (ipykernel)",
   "language": "python",
   "name": "python3"
  },
  "language_info": {
   "codemirror_mode": {
    "name": "ipython",
    "version": 3
   },
   "file_extension": ".py",
   "mimetype": "text/x-python",
   "name": "python",
   "nbconvert_exporter": "python",
   "pygments_lexer": "ipython3",
   "version": "3.13.0"
  }
 },
 "nbformat": 4,
 "nbformat_minor": 5
}
