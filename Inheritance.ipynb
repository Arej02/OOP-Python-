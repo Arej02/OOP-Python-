{
 "cells": [
  {
   "cell_type": "markdown",
   "metadata": {
    "id": "BCleRtX43caS"
   },
   "source": [
    "### `Problem-1:` Class inheritence\n",
    "\n",
    "Create a **Bus** child class that inherits from the Vehicle class. The default fare charge of any vehicle is seating capacity * 100. If Vehicle is Bus instance, we need to add an extra 10% on full fare as a maintenance charge. So total fare for bus instance will become the final amount = total fare + 10% of the total fare.\n",
    "\n",
    "Note: The bus seating capacity is 50. so the final fare amount should be 5500. You need to override the fare() method of a Vehicle class in Bus class."
   ]
  },
  {
   "cell_type": "code",
   "execution_count": 1,
   "metadata": {
    "colab": {
     "base_uri": "https://localhost:8080/"
    },
    "id": "6jVFCXKz3YZI",
    "outputId": "a8649209-08e2-4f60-a914-74a914dd697e"
   },
   "outputs": [],
   "source": [
    "class Vehicle:\n",
    "\n",
    "    def __init__(self,capacity,type):\n",
    "        self.capacity=capacity\n",
    "        self.type=type\n",
    "\n",
    "    def fare(self):\n",
    "        return self.capacity*100\n",
    "\n",
    "class Bus(Vehicle):\n",
    "\n",
    "    def fare(self):\n",
    "        total_fare=super().fare()\n",
    "        return total_fare+0.1*total_fare\n"
   ]
  },
  {
   "cell_type": "code",
   "execution_count": 2,
   "metadata": {},
   "outputs": [],
   "source": [
    "bus1=Bus(50,'public bus')"
   ]
  },
  {
   "cell_type": "code",
   "execution_count": 3,
   "metadata": {},
   "outputs": [
    {
     "data": {
      "text/plain": [
       "5500.0"
      ]
     },
     "execution_count": 3,
     "metadata": {},
     "output_type": "execute_result"
    }
   ],
   "source": [
    "bus1.fare()"
   ]
  },
  {
   "cell_type": "markdown",
   "metadata": {
    "id": "ExIxsv4y-oEd"
   },
   "source": [
    "### `Problem-2:` Write a program that has a class Point. Define another class Location which has two objects (Location & Destination) of class Point. Also define a function in Location that prints the reflection of Destination on the x axis."
   ]
  },
  {
   "cell_type": "code",
   "execution_count": null,
   "metadata": {
    "id": "yT2QtzQp5VAB"
   },
   "outputs": [],
   "source": []
  },
  {
   "cell_type": "markdown",
   "metadata": {
    "id": "OcQhJvXVALgp"
   },
   "source": [
    "### `Problem-4:` Write a program that has an abstract class Polygon. Derive two classes Rectangle and Triamgle from Polygon and write methods to get the details of their dimensions and hence calculate the area."
   ]
  },
  {
   "cell_type": "code",
   "execution_count": null,
   "metadata": {
    "id": "9IMrtdUH__eA"
   },
   "outputs": [],
   "source": []
  },
  {
   "cell_type": "markdown",
   "metadata": {
    "id": "sEsGEqOHCSWG"
   },
   "source": [
    "### `Problem-5:` Write a program with class Bill. The users have the option to pay the bill either by cheque or by cash. Use the inheritance to model this situation."
   ]
  },
  {
   "cell_type": "code",
   "execution_count": 4,
   "metadata": {
    "id": "l0WFyP2PB3nf"
   },
   "outputs": [],
   "source": [
    "class Bill:\n",
    "    def __init__(self,bill_no:int,item:list,price:list):\n",
    "        self.total=0\n",
    "        self.__bill_no=bill_no\n",
    "        self.item=item\n",
    "        self.price=price\n",
    "\n",
    "    def display(self):\n",
    "        print(\"Item:\",\"\\t\",\"Price:\")\n",
    "        for i in range(len(self.item)):\n",
    "            print(self.item[i],\"\\t\",self.price[i])\n",
    "            self.total+=self.price[i]\n",
    "        print(\"*\"*20)\n",
    "        print(\"Total Amount:\",\"\\t\",self.total)\n",
    "        print(\"*\"*20)\n",
    "        \n",
    "class Cash(Bill):\n",
    "    def __init__(self,bill_no,item,price,denomination:list,number:list):\n",
    "        super().__init__(bill_no,item,price)\n",
    "        self.denomination=denomination\n",
    "        self.number=number\n",
    "\n",
    "    def pay_bill(self):\n",
    "        super().display()\n",
    "        total_cash=0\n",
    "        for i in range(len(self.denomination)):\n",
    "            total_cash+=self.denomination[i]*self.number[i]\n",
    "            print(self.denomination[i],\"*\",self.number[i],\"=\",self.denomination[i]*self.number[i])\n",
    "        print(\"Amount Payed:\",total_cash)\n",
    "        change=total_cash-self.total\n",
    "        print(\"*\"*20)\n",
    "        print(\"Change Given\",\"\\t\",change)\n",
    "\n",
    "class Cheque(Bill):\n",
    "    def __init__(self,bill_no,item,price,cheque_amount:int):\n",
    "        super().__init__(bill_no,item,price)\n",
    "        self.cheque_amount=cheque_amount\n",
    "\n",
    "    def pay_bill(self):\n",
    "        super().display()\n",
    "        print(\"Amount Payed\",\"\\t\",self.cheque_amount)\n",
    "        if self.cheque_amount>=self.total:\n",
    "            print(\"Successful Payment\")\n",
    "        else:\n",
    "            print(self.total-self.cheque_amount,\"left\")\n",
    "        "
   ]
  },
  {
   "cell_type": "code",
   "execution_count": 5,
   "metadata": {},
   "outputs": [
    {
     "name": "stdin",
     "output_type": "stream",
     "text": [
      "Would you like to pay by cash (0) or check(1): 0\n"
     ]
    },
    {
     "name": "stdout",
     "output_type": "stream",
     "text": [
      "Item: \t Price:\n",
      "Momo \t 120\n",
      "Pizza \t 300\n",
      "Burger \t 150\n",
      "********************\n",
      "Total Amount: \t 570\n",
      "********************\n",
      "10 * 1 = 10\n",
      "20 * 1 = 20\n",
      "50 * 0 = 0\n",
      "100 * 1 = 100\n",
      "500 * 1 = 500\n",
      "Amount Payed: 630\n",
      "********************\n",
      "Change Given \t 60\n"
     ]
    }
   ],
   "source": [
    "items=['Momo','Pizza','Burger']\n",
    "price=[120,300,150]\n",
    "choice=int(input(\"Would you like to pay by cash (0) or check(1):\"))\n",
    "\n",
    "if choice==0:\n",
    "    cash1=Cash(101,items,price,[10,20,50,100,500],[1,1,0,1,1])\n",
    "    cash1.pay_bill()\n",
    "elif choice==1:\n",
    "    cheque1=Cheque(102,items,price,1000)\n",
    "    cheque1.pay_bill()\n",
    "else:\n",
    "    print(\"Choose correct option\")"
   ]
  },
  {
   "cell_type": "code",
   "execution_count": null,
   "metadata": {},
   "outputs": [],
   "source": []
  },
  {
   "cell_type": "code",
   "execution_count": null,
   "metadata": {},
   "outputs": [],
   "source": []
  },
  {
   "cell_type": "markdown",
   "metadata": {
    "id": "v1M5Yh9ZZO0z"
   },
   "source": [
    "###`Q-6:` FlexibleDict\n",
    "As of now we are accessing values from dictionary with exact keys. Now we want to amend accessing values functionality. if a dict have key `1` (int) the even if we try to access values by giving `'1'` (1 as str) as key, we should get the same result and vice versa.\n",
    "\n",
    "Write a class `FlexibleDict` upon builtin `dict` class with above required functionality.\n",
    "\n",
    "Hint- `dict[key] => dict.__getitem__(key)`"
   ]
  },
  {
   "cell_type": "markdown",
   "metadata": {
    "id": "uajGeWegbfda"
   },
   "source": [
    "Ex.\n",
    "```\n",
    "fd = FlexibleDict()\n",
    "fd['a'] = 100\n",
    "print(fd['a']) # Like regular dict\n",
    "\n",
    "fd[5] = 500\n",
    "print(fd[5]) # Like regular dict\n",
    "\n",
    "fd[1] = 100\n",
    "print(fd['1']) # actual Key is int but still trying to access through str key.\n",
    "fd['1'] = 100\n",
    "print(fd[1])\n",
    "\n",
    "```\n",
    "`Output:`\n",
    "```\n",
    "100\n",
    "500\n",
    "100\n",
    "100\n",
    "\n",
    "```"
   ]
  },
  {
   "cell_type": "code",
   "execution_count": null,
   "metadata": {
    "id": "OHLbOtCxZ2nw"
   },
   "outputs": [],
   "source": []
  },
  {
   "cell_type": "code",
   "execution_count": null,
   "metadata": {
    "id": "7NM8r__dmeMf"
   },
   "outputs": [],
   "source": []
  },
  {
   "cell_type": "code",
   "execution_count": null,
   "metadata": {
    "id": "waHSud8Ymkz-"
   },
   "outputs": [],
   "source": []
  }
 ],
 "metadata": {
  "colab": {
   "collapsed_sections": [
    "BCleRtX43caS",
    "KBbGNTtQ47mJ",
    "ExIxsv4y-oEd",
    "OcQhJvXVALgp",
    "sEsGEqOHCSWG",
    "v1M5Yh9ZZO0z"
   ],
   "provenance": []
  },
  "kernelspec": {
   "display_name": "Python 3 (ipykernel)",
   "language": "python",
   "name": "python3"
  },
  "language_info": {
   "codemirror_mode": {
    "name": "ipython",
    "version": 3
   },
   "file_extension": ".py",
   "mimetype": "text/x-python",
   "name": "python",
   "nbconvert_exporter": "python",
   "pygments_lexer": "ipython3",
   "version": "3.13.0"
  }
 },
 "nbformat": 4,
 "nbformat_minor": 4
}
