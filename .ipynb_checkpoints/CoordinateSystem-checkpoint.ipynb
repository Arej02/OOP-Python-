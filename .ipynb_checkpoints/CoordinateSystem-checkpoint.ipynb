{
 "cells": [
  {
   "cell_type": "markdown",
   "id": "29e44ef6-e25a-4430-abfe-f9c9f713e756",
   "metadata": {},
   "source": [
    "# Write OOP classes to handle the following scenarios:\n",
    "\n",
    "- A user can create and view 2D coordinates\n",
    "- A user can find out the distance between 2 coordinates\n",
    "- A user can find find the distance of a coordinate from origin\n",
    "- A user can check if a point lies on a given line\n",
    "- A user can find the distance between a given 2D point and a given line"
   ]
  },
  {
   "cell_type": "code",
   "execution_count": 4,
   "id": "2435c383-935a-4e64-aa4d-3c03d5254932",
   "metadata": {},
   "outputs": [],
   "source": [
    "class Point:\n",
    "    def __init__(self,x,y):\n",
    "        self.coordinate_x=x\n",
    "        self.coordinate_y=y\n",
    "\n",
    "    def __str__(self):\n",
    "        return '<{},{}>'.format(self.coordinate_x,self.coordinated_y)\n",
    "\n",
    "    def euclidian_distance(self,other):\n",
    "        return ((self.coordinate_x-other.coordinate_x)**2+(self.coordinate_y-other.coordinate_y)**2)**0.5\n",
    "\n",
    "    def distance_from_origin(self):\n",
    "        return self.euclidian_distance(Point(0,0))\n",
    "        "
   ]
  },
  {
   "cell_type": "code",
   "execution_count": 5,
   "id": "3c764d0f-31ef-4bc2-a71b-24bf8397c432",
   "metadata": {},
   "outputs": [
    {
     "name": "stdout",
     "output_type": "stream",
     "text": [
      "1.4142135623730951\n"
     ]
    }
   ],
   "source": [
    "p1=Point(1,1)\n",
    "print(p1.distance_from_origin())"
   ]
  },
  {
   "cell_type": "code",
   "execution_count": 6,
   "id": "bd19c978-296e-46b5-81a3-b588455776fc",
   "metadata": {},
   "outputs": [],
   "source": [
    "class Line:\n",
    "    def __init__(self,a,b,c):\n",
    "        self.coeff_a=a\n",
    "        self.coeff_b=b\n",
    "        self.coeff_c=c\n",
    "\n",
    "    def __str__(self):\n",
    "        return '{}x+{}y+{}=0'.format(self.coeff_a,self.coeff_b,self.coeff_c)\n",
    "\n",
    "    def equation_of_line(self,point):\n",
    "         if self.coeff_a*point.coordinate_x+self.coeff_b*point.coordinate_y+self.coeff_c==0:\n",
    "             return \"Lines on line\"\n",
    "         else:\n",
    "             return \"Does not Lie on line\"\n",
    "\n",
    "    def shortest_distance(self,point):\n",
    "        numerator=abs(self.coeff_a*point.coordinate_x+self.coeff_b*point.coordinate_y+self.coeff_c)\n",
    "        denominator=(self.coeff_a**2+self.coeff_b**2)**0.5\n",
    "        return numerator/denominator\n",
    "\n",
    "        "
   ]
  },
  {
   "cell_type": "code",
   "execution_count": 9,
   "id": "1e8c03de-8c30-43a3-b38e-07b3116dce0e",
   "metadata": {},
   "outputs": [
    {
     "data": {
      "text/plain": [
       "6.363961030678928"
      ]
     },
     "execution_count": 9,
     "metadata": {},
     "output_type": "execute_result"
    }
   ],
   "source": [
    "line1=Line(1,1,-2)\n",
    "point1=Point(1,10)\n",
    "line1.shortest_distance(point1)"
   ]
  },
  {
   "cell_type": "code",
   "execution_count": null,
   "id": "e64c387b-50e4-4ac5-a805-bf11f9ec53e4",
   "metadata": {},
   "outputs": [],
   "source": []
  }
 ],
 "metadata": {
  "kernelspec": {
   "display_name": "Python 3 (ipykernel)",
   "language": "python",
   "name": "python3"
  },
  "language_info": {
   "codemirror_mode": {
    "name": "ipython",
    "version": 3
   },
   "file_extension": ".py",
   "mimetype": "text/x-python",
   "name": "python",
   "nbconvert_exporter": "python",
   "pygments_lexer": "ipython3",
   "version": "3.12.7"
  }
 },
 "nbformat": 4,
 "nbformat_minor": 5
}
