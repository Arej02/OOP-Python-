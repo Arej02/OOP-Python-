{
 "cells": [
  {
   "cell_type": "code",
   "execution_count": 27,
   "id": "3185cf5b-8f1f-4d15-9f3f-4734fd0c986a",
   "metadata": {},
   "outputs": [
    {
     "name": "stdout",
     "output_type": "stream",
     "text": [
      "<5>\n"
     ]
    }
   ],
   "source": [
    "cicle=Circle()"
   ]
  },
  {
   "cell_type": "code",
   "execution_count": 28,
   "id": "230aff52-80f0-4921-b5df-a892a07a831a",
   "metadata": {},
   "outputs": [
    {
     "data": {
      "text/plain": [
       "78.5"
      ]
     },
     "execution_count": 28,
     "metadata": {},
     "output_type": "execute_result"
    }
   ],
   "source": [
    "circle.area()"
   ]
  },
  {
   "cell_type": "code",
   "execution_count": 29,
   "id": "a06fb9fe-12eb-4b15-9070-4b05f326d2d9",
   "metadata": {},
   "outputs": [
    {
     "data": {
      "text/plain": [
       "31.4"
      ]
     },
     "execution_count": 29,
     "metadata": {},
     "output_type": "execute_result"
    }
   ],
   "source": [
    "circle.perimeter()"
   ]
  },
  {
   "cell_type": "code",
   "execution_count": 32,
   "id": "55ca3fde-9ac9-400b-ad98-291d154a2e46",
   "metadata": {},
   "outputs": [],
   "source": [
    "class Point:\n",
    "    def __init__(self,x,y):\n",
    "        self.x=x\n",
    "        self.y=y\n",
    "    def __str__(self):\n",
    "        return '<{},{}>'.format(self.x,self.y)\n",
    "    def point_in_circle(self,circle,centre):\n",
    "        if (self.x-circle.x)**2-(self.y-"
   ]
  },
  {
   "cell_type": "code",
   "execution_count": 33,
   "id": "9708fe74-457d-445f-b57c-66b925076f7d",
   "metadata": {},
   "outputs": [
    {
     "name": "stdout",
     "output_type": "stream",
     "text": [
      "<1,1>\n"
     ]
    }
   ],
   "source": [
    "point1=Point(1,1)\n",
    "print(point1)"
   ]
  },
  {
   "cell_type": "code",
   "execution_count": null,
   "id": "5e2f03ef-a7cb-445a-ab47-3875ce1e02c3",
   "metadata": {},
   "outputs": [],
   "source": []
  }
 ],
 "metadata": {
  "kernelspec": {
   "display_name": "Python 3 (ipykernel)",
   "language": "python",
   "name": "python3"
  },
  "language_info": {
   "codemirror_mode": {
    "name": "ipython",
    "version": 3
   },
   "file_extension": ".py",
   "mimetype": "text/x-python",
   "name": "python",
   "nbconvert_exporter": "python",
   "pygments_lexer": "ipython3",
   "version": "3.12.7"
  }
 },
 "nbformat": 4,
 "nbformat_minor": 5
}
