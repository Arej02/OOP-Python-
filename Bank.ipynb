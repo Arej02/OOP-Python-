{
 "cells": [
  {
   "cell_type": "markdown",
   "id": "c3e3e6bd-918e-4420-a649-b2594e1067f3",
   "metadata": {},
   "source": [
    "### Bank Class\n",
    "1. Create a Python class called BankAccount which represents a bank account, having as attributes: accountNumber (numeric type), name (name of the account owner as string type), balance.\n",
    "2. Create a constructor with parameters: accountNumber, name, balance.\n",
    "3. Create a Deposit() method which manages the deposit actions.\n",
    "4. Create a Withdrawal() method which manages withdrawals actions.\n",
    "5. Create an bankFees() method to apply the bank fees with a percentage of 5% of the balance account.\n",
    "6. Create a display() method to display account details. Give the complete code for the BankAccount class."
   ]
  },
  {
   "cell_type": "code",
   "execution_count": 1,
   "id": "275c74e8-d11f-4523-876d-ba74d11129b1",
   "metadata": {},
   "outputs": [],
   "source": [
    "class BankAccount:\n",
    "    def __init__(self,accountNumber,name,balance):\n",
    "        self.__accountNumber=accountNumber\n",
    "        self.__name=name\n",
    "        self.__balance=balance\n",
    "\n",
    "    def Deposit(self):\n",
    "        amount=int(input(\"Enter the amount that you want to deposit:\"))\n",
    "        if amount>0:\n",
    "            self.__balance=self.__balance+amount\n",
    "            print(\"Your current balance is:{}\".format(self.__balance))\n",
    "        else:\n",
    "            print(\"Enter a valid amount!\")\n",
    "\n",
    "    def Withdraw(self):\n",
    "        amount=int(input(\"Enter the amount that you want to withdraw:\"))\n",
    "        if amount<self.__balance:\n",
    "            fees=self.bankFees()\n",
    "            self.__balance=self.__balance-amount-fees\n",
    "            print(\"Your current balance is:{}\".format(self.__balance))\n",
    "        else:\n",
    "            print(\"You do not have enough balance to withdraw!\")\n",
    "\n",
    "    def bankFees(self):\n",
    "        fees=self.__balance*0.05\n",
    "        return fees\n",
    "\n",
    "    def display(self):\n",
    "        return \"Account Number:{},Name:{},Balance:{}\".format(self.__accountNumber,self.__name,self.__balance)\n",
    "        \n",
    "        "
   ]
  },
  {
   "cell_type": "code",
   "execution_count": 2,
   "id": "ecdf60be-1d8f-4b66-ae2a-e06b86c9d4d7",
   "metadata": {},
   "outputs": [],
   "source": [
    "acc1=BankAccount(123,\"Arya\",5000)"
   ]
  },
  {
   "cell_type": "code",
   "execution_count": 3,
   "id": "7ec2e2cd-178c-471c-9cc9-f266f960d5d3",
   "metadata": {},
   "outputs": [
    {
     "name": "stdin",
     "output_type": "stream",
     "text": [
      "Enter the amount that you want to deposit: 2000\n"
     ]
    },
    {
     "name": "stdout",
     "output_type": "stream",
     "text": [
      "Your current balance is:7000\n"
     ]
    }
   ],
   "source": [
    "acc1.Deposit()"
   ]
  },
  {
   "cell_type": "code",
   "execution_count": 4,
   "id": "28f166e4-a8c6-4f1b-a06b-6de3910f9027",
   "metadata": {},
   "outputs": [
    {
     "name": "stdin",
     "output_type": "stream",
     "text": [
      "Enter the amount that you want to withdraw: 879\n"
     ]
    },
    {
     "name": "stdout",
     "output_type": "stream",
     "text": [
      "Your current balance is:5771.0\n"
     ]
    }
   ],
   "source": [
    "acc1.Withdraw()"
   ]
  },
  {
   "cell_type": "code",
   "execution_count": 5,
   "id": "3a11ea4f-7b73-4ac2-aa44-2df6282d4fab",
   "metadata": {},
   "outputs": [
    {
     "data": {
      "text/plain": [
       "'Account Number:123,Name:Arya,Balance:5771.0'"
      ]
     },
     "execution_count": 5,
     "metadata": {},
     "output_type": "execute_result"
    }
   ],
   "source": [
    "acc1.display()"
   ]
  }
 ],
 "metadata": {
  "kernelspec": {
   "display_name": "Python 3 (ipykernel)",
   "language": "python",
   "name": "python3"
  },
  "language_info": {
   "codemirror_mode": {
    "name": "ipython",
    "version": 3
   },
   "file_extension": ".py",
   "mimetype": "text/x-python",
   "name": "python",
   "nbconvert_exporter": "python",
   "pygments_lexer": "ipython3",
   "version": "3.13.0"
  }
 },
 "nbformat": 4,
 "nbformat_minor": 5
}
