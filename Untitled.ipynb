{
 "cells": [
  {
   "cell_type": "markdown",
   "id": "b37e0304-53a0-4939-975c-522f05570168",
   "metadata": {},
   "source": [
    "# Bank Account Management\n",
    "- Implement a banking system with:\n",
    "- Base Account class with deposit/withdraw methods\n",
    "- SavingsAccount with interest calculation\n",
    "- CheckingAccount with transaction limits\n",
    "- Customer class that can hold multiple accounts\n",
    "- Transaction history tracking"
   ]
  },
  {
   "cell_type": "code",
   "execution_count": 50,
   "id": "6c20af98-f81b-4771-8c25-c4845cdd9afe",
   "metadata": {},
   "outputs": [],
   "source": [
    "class ATM:\n",
    "    def __init__(self):\n",
    "        self.pin=1234\n",
    "        self.balance=0\n",
    "        self.menu()\n",
    "    def __str__(self):\n",
    "        return '<{},{}>'.format(self.pin,self.balance)\n",
    "\n",
    "    def menu(self):\n",
    "        user_input=input(\"\"\"Hi! Welcome to Nabil Bank! Please choose the option:\n",
    "        1. Press 1 to Change pin number\n",
    "        2. Press 2 to Check balance\n",
    "        3. Press 3 to Withdraw \n",
    "        4. Press 4 to Deposit \n",
    "        5. Press 5 to Exit\n",
    "        \"\"\")\n",
    "        if user_input=='1':\n",
    "            pin_number=int(input(\"Enter you current pin number: \"))\n",
    "            if pin_number==self.pin:\n",
    "                new_pin=int(input(\"Enter your new pin number: \"))\n",
    "                self.pin=new_pin\n",
    "                print(\"Your pin number has been changed\")\n",
    "            else:\n",
    "                print(\"Your pin number is incorrect.Please try again!\")\n",
    "        elif user_input=='2':\n",
    "             pin_number=int(input(\"Enter you current pin number: \"))\n",
    "             if pin_number==self.pin:\n",
    "                print(f\"Your balance is:{self.balance}\")\n",
    "             else:\n",
    "                print(\"Your pin number is incorrect.Please try again!\")\n",
    "        elif user_input =='3':\n",
    "             pin_number=int(input(\"Enter you current pin number: \"))\n",
    "             if pin_number==self.pin:\n",
    "                withdraw_amount=int(input(\"Enter the amount to be withdrawn\"))\n",
    "                if withdraw_amount>self.balance:\n",
    "                    print(\"Not enough funds\")\n",
    "             else:\n",
    "                print(\"Your pin number is incorrect.Please try again!\")\n",
    "            \n",
    "        elif user_input =='4':\n",
    "             pin_number=int(input(\"Enter you current pin number: \"))\n",
    "             if pin_number==self.pin:\n",
    "                deposit_amount=int(input(\"Enter the amount to be deposit\"))\n",
    "                print(f\"{deposit_amount} has been deposited\")\n",
    "                print(f\"Your new balance is {deposit_amount+self.balance}\")\n",
    "             else:\n",
    "                print(\"Your pin number is incorrect.Please try again!\")\n",
    "\n",
    "        else:\n",
    "            exit()"
   ]
  },
  {
   "cell_type": "code",
   "execution_count": 51,
   "id": "8336cf48-a5fe-486f-95ce-2889aab62592",
   "metadata": {},
   "outputs": [
    {
     "name": "stdin",
     "output_type": "stream",
     "text": [
      "Hi! Welcome to Nabil Bank! Please choose the option:\n",
      "        1. Press 1 to Change pin number\n",
      "        2. Press 2 to Check balance\n",
      "        3. Press 3 to Withdraw \n",
      "        4. Press 4 to Deposit \n",
      "        5. Press 5 to Exit\n",
      "         4\n",
      "Enter you current pin number:  1234\n",
      "Enter the amount to be deposit 145\n"
     ]
    },
    {
     "name": "stdout",
     "output_type": "stream",
     "text": [
      "145 has been deposited\n",
      "Your new balance is 145\n",
      "<1234,0>\n"
     ]
    }
   ],
   "source": [
    "atm1=ATM()\n",
    "print(atm1)"
   ]
  },
  {
   "cell_type": "code",
   "execution_count": null,
   "id": "625febac-6321-4338-91dc-4ba88a753785",
   "metadata": {},
   "outputs": [],
   "source": []
  }
 ],
 "metadata": {
  "kernelspec": {
   "display_name": "Python 3 (ipykernel)",
   "language": "python",
   "name": "python3"
  },
  "language_info": {
   "codemirror_mode": {
    "name": "ipython",
    "version": 3
   },
   "file_extension": ".py",
   "mimetype": "text/x-python",
   "name": "python",
   "nbconvert_exporter": "python",
   "pygments_lexer": "ipython3",
   "version": "3.12.7"
  }
 },
 "nbformat": 4,
 "nbformat_minor": 5
}
